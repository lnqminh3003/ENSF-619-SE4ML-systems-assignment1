{
 "cells": [
  {
   "cell_type": "markdown",
   "id": "bfb236a2",
   "metadata": {},
   "source": [
    "# Setup\n",
    "I just Visual Studio Code and Jupyter Notebook and run locally in my computer.\n",
    "\n",
    "The libraries I use:\n",
    "- numpy: \n",
    "- pandas: \n",
    "- \n",
    "\n",
    "NumPy for arrays, Pandas for data handling, Matplotlib/Seaborn for visualizations,\n",
    "Scikit-learn for preprocessing, model, and metrics."
   ]
  },
  {
   "cell_type": "code",
   "execution_count": 1102,
   "id": "c2a350ef",
   "metadata": {},
   "outputs": [
    {
     "name": "stdout",
     "output_type": "stream",
     "text": [
      "Libraries loaded successfully\n"
     ]
    }
   ],
   "source": [
    "import numpy as np\n",
    "import pandas as pd\n",
    "import matplotlib.pyplot as plt\n",
    "import seaborn as sns\n",
    "import pandas as pd\n",
    "from sklearn.model_selection import train_test_split\n",
    "from sklearn.neighbors import KNeighborsClassifier\n",
    "from sklearn.metrics import accuracy_score, confusion_matrix, classification_report\n",
    "\n",
    "print(\"Libraries loaded successfully\")"
   ]
  },
  {
   "cell_type": "markdown",
   "id": "4b85f0dd",
   "metadata": {},
   "source": [
    "# Data Preparation\n",
    "I use Iris dataset from D2L. This is a CSV file. \n",
    "\n",
    "Iris dataset is 150 samples....\n",
    "\n",
    "In this step, I will load this CSV file and make sure the column names match expected features and target (species)"
   ]
  },
  {
   "cell_type": "code",
   "execution_count": 1103,
   "id": "ea5c91b3",
   "metadata": {},
   "outputs": [
    {
     "name": "stdout",
     "output_type": "stream",
     "text": [
      "   Id  SepalLengthCm  SepalWidthCm  PetalLengthCm  PetalWidthCm      Species\n",
      "0   1            5.1           3.5            1.4           0.2  Iris-setosa\n",
      "1   2            4.9           3.0            1.4           0.2  Iris-setosa\n",
      "2   3            4.7           3.2            1.3           0.2  Iris-setosa\n",
      "3   4            4.6           3.1            1.5           0.2  Iris-setosa\n",
      "4   5            5.0           3.6            1.4           0.2  Iris-setosa\n"
     ]
    }
   ],
   "source": [
    "# Load the Iris dataset from CSV\n",
    "iris = pd.read_csv('dataset/Iris.csv')\n",
    "\n",
    "# Display the first 5 rows of the dataset to make suare it's loaded correctly\n",
    "print(iris.head(5))"
   ]
  },
  {
   "cell_type": "markdown",
   "id": "aba21355",
   "metadata": {},
   "source": [
    "# Data Exploration"
   ]
  },
  {
   "cell_type": "markdown",
   "id": "fd27562e",
   "metadata": {},
   "source": [
    "## Display basic statistics\n",
    "With SepalLengthCm, SepalWidthCm, PetalLengthCm, PetalWidthCm print min, max, mean, median and Standard deviation\n",
    "\n",
    "With species -> print count"
   ]
  },
  {
   "cell_type": "markdown",
   "id": "ddbc70b4",
   "metadata": {},
   "source": [
    "### SepalLengthCm statistics"
   ]
  },
  {
   "cell_type": "code",
   "execution_count": 1104,
   "id": "1e1983f3",
   "metadata": {},
   "outputs": [
    {
     "name": "stdout",
     "output_type": "stream",
     "text": [
      "Min: 4.3\n",
      "Max: 7.9\n",
      "Mean: 5.843333333333334\n",
      "Median: 5.8\n",
      "Standard Deviation: 0.828066127977863\n"
     ]
    }
   ],
   "source": [
    "print(\"Min:\", iris[\"SepalLengthCm\"].min())\n",
    "print(\"Max:\", iris[\"SepalLengthCm\"].max())\n",
    "print(\"Mean:\", iris[\"SepalLengthCm\"].mean())\n",
    "print(\"Median:\", iris[\"SepalLengthCm\"].median())\n",
    "print(\"Standard Deviation:\", iris[\"SepalLengthCm\"].std())"
   ]
  },
  {
   "cell_type": "markdown",
   "id": "e59fac75",
   "metadata": {},
   "source": [
    "### SepalWidthCm statistics"
   ]
  },
  {
   "cell_type": "code",
   "execution_count": 1105,
   "id": "c607ad4b",
   "metadata": {},
   "outputs": [
    {
     "name": "stdout",
     "output_type": "stream",
     "text": [
      "Min: 2.0\n",
      "Max: 4.4\n",
      "Mean: 3.0540000000000003\n",
      "Median: 3.0\n",
      "Standard Deviation: 0.4335943113621737\n"
     ]
    }
   ],
   "source": [
    "print(\"Min:\", iris[\"SepalWidthCm\"].min())\n",
    "print(\"Max:\", iris[\"SepalWidthCm\"].max())\n",
    "print(\"Mean:\", iris[\"SepalWidthCm\"].mean())\n",
    "print(\"Median:\", iris[\"SepalWidthCm\"].median())\n",
    "print(\"Standard Deviation:\", iris[\"SepalWidthCm\"].std())"
   ]
  },
  {
   "cell_type": "markdown",
   "id": "81489af3",
   "metadata": {},
   "source": [
    "### PetalLengthCm statistics"
   ]
  },
  {
   "cell_type": "code",
   "execution_count": 1106,
   "id": "50548e36",
   "metadata": {},
   "outputs": [
    {
     "name": "stdout",
     "output_type": "stream",
     "text": [
      "Min: 1.0\n",
      "Max: 6.9\n",
      "Mean: 3.758666666666666\n",
      "Median: 4.35\n",
      "Standard Deviation: 1.7644204199522626\n"
     ]
    }
   ],
   "source": [
    "print(\"Min:\", iris[\"PetalLengthCm\"].min())\n",
    "print(\"Max:\", iris[\"PetalLengthCm\"].max())\n",
    "print(\"Mean:\", iris[\"PetalLengthCm\"].mean())\n",
    "print(\"Median:\", iris[\"PetalLengthCm\"].median())\n",
    "print(\"Standard Deviation:\", iris[\"PetalLengthCm\"].std())"
   ]
  },
  {
   "cell_type": "markdown",
   "id": "b092adda",
   "metadata": {},
   "source": [
    "### PetalWidthCm statistics"
   ]
  },
  {
   "cell_type": "code",
   "execution_count": 1107,
   "id": "1cf5ecfc",
   "metadata": {},
   "outputs": [
    {
     "name": "stdout",
     "output_type": "stream",
     "text": [
      "Min: 0.1\n",
      "Max: 2.5\n",
      "Mean: 1.1986666666666668\n",
      "Median: 1.3\n",
      "Standard Deviation: 0.7631607417008411\n"
     ]
    }
   ],
   "source": [
    "print(\"Min:\", iris[\"PetalWidthCm\"].min())\n",
    "print(\"Max:\", iris[\"PetalWidthCm\"].max())\n",
    "print(\"Mean:\", iris[\"PetalWidthCm\"].mean())\n",
    "print(\"Median:\", iris[\"PetalWidthCm\"].median())\n",
    "print(\"Standard Deviation:\", iris[\"PetalWidthCm\"].std())"
   ]
  },
  {
   "cell_type": "markdown",
   "id": "cc42500c",
   "metadata": {},
   "source": [
    "### Species statistics"
   ]
  },
  {
   "cell_type": "code",
   "execution_count": 1108,
   "id": "321af64c",
   "metadata": {},
   "outputs": [
    {
     "name": "stdout",
     "output_type": "stream",
     "text": [
      "Species\n",
      "Iris-setosa        50\n",
      "Iris-versicolor    50\n",
      "Iris-virginica     50\n",
      "Name: count, dtype: int64\n"
     ]
    }
   ],
   "source": [
    "print(iris['Species'].value_counts())"
   ]
  },
  {
   "cell_type": "markdown",
   "id": "f61019b9",
   "metadata": {},
   "source": [
    "## Visualizations"
   ]
  },
  {
   "cell_type": "markdown",
   "id": "78de0b0c",
   "metadata": {},
   "source": [
    "### Histograms of features\n",
    "SepalLengthCm, SepalWidthCm, PetalLengthCm, PetalWidthCm are numeric feature -> we can visualize by plot historams"
   ]
  },
  {
   "cell_type": "code",
   "execution_count": 1109,
   "id": "3fba5db4",
   "metadata": {},
   "outputs": [
    {
     "data": {
      "image/png": "[encoded data removed]",
      "text/plain": [
       "<Figure size 1000x600 with 4 Axes>"
      ]
     },
     "metadata": {},
     "output_type": "display_data"
    }
   ],
   "source": [
    "iris[['SepalLengthCm','SepalWidthCm','PetalLengthCm','PetalWidthCm']].hist(bins=15, figsize=(10, 6))\n",
    "plt.suptitle(\"Histograms of features\")\n",
    "plt.show()"
   ]
  },
  {
   "cell_type": "markdown",
   "id": "a045f1c3",
   "metadata": {},
   "source": [
    "### Sepal length vs width\n",
    "Compare two length and width of Sepal and color by species"
   ]
  },
  {
   "cell_type": "code",
   "execution_count": 1110,
   "id": "ad31215b",
   "metadata": {},
   "outputs": [
    {
     "data": {
      "image/png": "[encoded data removed]",
      "text/plain": [
       "<Figure size 640x480 with 1 Axes>"
      ]
     },
     "metadata": {},
     "output_type": "display_data"
    }
   ],
   "source": [
    "sns.scatterplot(data=iris, x='SepalLengthCm', y='SepalWidthCm', hue='Species')\n",
    "plt.title(\"Sepal Length vs Sepal Width by Species\")\n",
    "plt.show()"
   ]
  },
  {
   "cell_type": "markdown",
   "id": "a0ce87dc",
   "metadata": {},
   "source": [
    "### Petal length vs width\n",
    "Compare two length and width of Petal and color by species"
   ]
  },
  {
   "cell_type": "code",
   "execution_count": 1111,
   "id": "252c3863",
   "metadata": {},
   "outputs": [
    {
     "data": {
      "image/png": "[encoded data removed]",
      "text/plain": [
       "<Figure size 640x480 with 1 Axes>"
      ]
     },
     "metadata": {},
     "output_type": "display_data"
    }
   ],
   "source": [
    "sns.scatterplot(data=iris, x='PetalLengthCm', y='PetalWidthCm', hue='Species')\n",
    "plt.title(\"Petal Length vs Petal Width by Species\")\n",
    "plt.show()"
   ]
  },
  {
   "cell_type": "markdown",
   "id": "31eb5391",
   "metadata": {},
   "source": [
    "# Data Preprocessing"
   ]
  },
  {
   "cell_type": "markdown",
   "id": "c9147ca1",
   "metadata": {},
   "source": [
    "### See missing values"
   ]
  },
  {
   "cell_type": "code",
   "execution_count": 1112,
   "id": "9b87c25c",
   "metadata": {},
   "outputs": [
    {
     "name": "stdout",
     "output_type": "stream",
     "text": [
      "Id               0\n",
      "SepalLengthCm    0\n",
      "SepalWidthCm     0\n",
      "PetalLengthCm    0\n",
      "PetalWidthCm     0\n",
      "Species          0\n",
      "dtype: int64\n"
     ]
    }
   ],
   "source": [
    "print(iris.isnull().sum())"
   ]
  },
  {
   "cell_type": "markdown",
   "id": "2b4ad544",
   "metadata": {},
   "source": [
    "### Drop rows with missing values"
   ]
  },
  {
   "cell_type": "code",
   "execution_count": 1113,
   "id": "bdd8ed4a",
   "metadata": {},
   "outputs": [],
   "source": [
    "iris = iris.dropna()"
   ]
  },
  {
   "cell_type": "markdown",
   "id": "ea1cafd0",
   "metadata": {},
   "source": [
    "### Convert Species into numbers because model needs numeric input\n",
    "\n",
    "Iris-setosa: 0\n",
    "\n",
    "Iris-versicolor: 1\n",
    "\n",
    "Iris-virginica: 2"
   ]
  },
  {
   "cell_type": "code",
   "execution_count": 1114,
   "id": "0ac636c9",
   "metadata": {},
   "outputs": [
    {
     "name": "stdout",
     "output_type": "stream",
     "text": [
      "      Id  SepalLengthCm  SepalWidthCm  PetalLengthCm  PetalWidthCm  \\\n",
      "0      1            5.1           3.5            1.4           0.2   \n",
      "1      2            4.9           3.0            1.4           0.2   \n",
      "2      3            4.7           3.2            1.3           0.2   \n",
      "3      4            4.6           3.1            1.5           0.2   \n",
      "4      5            5.0           3.6            1.4           0.2   \n",
      "..   ...            ...           ...            ...           ...   \n",
      "145  146            6.7           3.0            5.2           2.3   \n",
      "146  147            6.3           2.5            5.0           1.9   \n",
      "147  148            6.5           3.0            5.2           2.0   \n",
      "148  149            6.2           3.4            5.4           2.3   \n",
      "149  150            5.9           3.0            5.1           1.8   \n",
      "\n",
      "            Species  Species_num  \n",
      "0       Iris-setosa            0  \n",
      "1       Iris-setosa            0  \n",
      "2       Iris-setosa            0  \n",
      "3       Iris-setosa            0  \n",
      "4       Iris-setosa            0  \n",
      "..              ...          ...  \n",
      "145  Iris-virginica            2  \n",
      "146  Iris-virginica            2  \n",
      "147  Iris-virginica            2  \n",
      "148  Iris-virginica            2  \n",
      "149  Iris-virginica            2  \n",
      "\n",
      "[150 rows x 7 columns]\n"
     ]
    }
   ],
   "source": [
    "target_map = {'Iris-setosa': 0, 'Iris-versicolor': 1, 'Iris-virginica': 2}\n",
    "iris['Species_num'] = iris['Species'].map(target_map)\n",
    "print(iris.head(150)) "
   ]
  },
  {
   "cell_type": "markdown",
   "id": "ab5df2f4",
   "metadata": {},
   "source": [
    "### Split the data into training and testing sets\n",
    "80% training, 20% testing"
   ]
  },
  {
   "cell_type": "code",
   "execution_count": 1115,
   "id": "f5de40d7",
   "metadata": {},
   "outputs": [],
   "source": [
    "\n",
    "features = iris[['SepalLengthCm','SepalWidthCm','PetalLengthCm','PetalWidthCm']]\n",
    "target = iris['Species_num']\n",
    "features_train, features_test, target_train, target_test = train_test_split(features, target, test_size=0.2, random_state=0)"
   ]
  },
  {
   "cell_type": "markdown",
   "id": "bdc0c8d6",
   "metadata": {},
   "source": [
    "# Model Building\n",
    "I chose K-Nearest Neighbors because it is easy to understand the algorithm and classifies samples based on similarity.\n",
    "\n",
    "It works well for small datasets like Iris.\n",
    "\n",
    "I choose `n_neighbors=5` when define KNN model because the model is more stable than when I choose `n_neighbors=3`. It will look at more neighbors before making a decision -> reduce the effect of noise but still keeps good accuracy.\n",
    "\n",
    "I will have a step for hyperparameter tuning later to see the differences"
   ]
  },
  {
   "cell_type": "code",
   "execution_count": 1116,
   "id": "b305ae33",
   "metadata": {},
   "outputs": [],
   "source": [
    "knn = KNeighborsClassifier(n_neighbors=5)"
   ]
  },
  {
   "cell_type": "markdown",
   "id": "f8d26d4b",
   "metadata": {},
   "source": [
    "# Model Training\n",
    "\n",
    "Train the model using training dataset and then predict on test set"
   ]
  },
  {
   "cell_type": "code",
   "execution_count": 1117,
   "id": "0eb37f2b",
   "metadata": {},
   "outputs": [],
   "source": [
    "knn.fit(features_train, target_train)\n",
    "\n",
    "target_prediction = knn.predict(features_test)"
   ]
  },
  {
   "cell_type": "markdown",
   "id": "a97e8e9c",
   "metadata": {},
   "source": [
    "# Evaluation\n",
    "\n",
    "Accuracy shows overall performance\n",
    "\n",
    "Confusion matrix and classification report show how well the model did for each flower class"
   ]
  },
  {
   "cell_type": "markdown",
   "id": "e136c384",
   "metadata": {},
   "source": [
    "### Accuracy"
   ]
  },
  {
   "cell_type": "code",
   "execution_count": 1118,
   "id": "7fe16b95",
   "metadata": {},
   "outputs": [
    {
     "name": "stdout",
     "output_type": "stream",
     "text": [
      "0.9666666666666667\n"
     ]
    }
   ],
   "source": [
    "accuracy = accuracy_score(target_test, target_prediction)\n",
    "print(accuracy)"
   ]
  },
  {
   "cell_type": "markdown",
   "id": "a032ece4",
   "metadata": {},
   "source": [
    "### Confusion matrix"
   ]
  },
  {
   "cell_type": "code",
   "execution_count": 1119,
   "id": "db75f636",
   "metadata": {},
   "outputs": [
    {
     "name": "stdout",
     "output_type": "stream",
     "text": [
      "[[11  0  0]\n",
      " [ 0 12  1]\n",
      " [ 0  0  6]]\n"
     ]
    }
   ],
   "source": [
    "conf_matrix = confusion_matrix(target_test, target_prediction)\n",
    "print(conf_matrix)"
   ]
  },
  {
   "cell_type": "markdown",
   "id": "0fb9b58b",
   "metadata": {},
   "source": [
    "### Classification report"
   ]
  },
  {
   "cell_type": "code",
   "execution_count": 1120,
   "id": "b3182928",
   "metadata": {},
   "outputs": [
    {
     "name": "stdout",
     "output_type": "stream",
     "text": [
      "                 precision    recall  f1-score   support\n",
      "\n",
      "    Iris-setosa       1.00      1.00      1.00        11\n",
      "Iris-versicolor       1.00      0.92      0.96        13\n",
      " Iris-virginica       0.86      1.00      0.92         6\n",
      "\n",
      "       accuracy                           0.97        30\n",
      "      macro avg       0.95      0.97      0.96        30\n",
      "   weighted avg       0.97      0.97      0.97        30\n",
      "\n"
     ]
    }
   ],
   "source": [
    "class_report = classification_report(target_test, target_prediction, target_names=['Iris-setosa', 'Iris-versicolor', 'Iris-virginica'])\n",
    "print(class_report)"
   ]
  },
  {
   "cell_type": "markdown",
   "id": "b41b9885",
   "metadata": {},
   "source": [
    "# Hyperparameter Tuning"
   ]
  },
  {
   "cell_type": "markdown",
   "id": "bbc3ce84",
   "metadata": {},
   "source": [
    "The reason why I chose tuning the `n_neighbors` hyperparameter in KNN because it decides how many nearby points that the model looks at to make a prediction\n",
    "\n",
    "I will test in small k and large k, and then compare these metrics"
   ]
  },
  {
   "cell_type": "code",
   "execution_count": 1121,
   "id": "7d134d71",
   "metadata": {},
   "outputs": [
    {
     "name": "stdout",
     "output_type": "stream",
     "text": [
      "k = 1, Accuracy = 1.00\n",
      "k = 1, Confusion Matrix:\n",
      "[[11  0  0]\n",
      " [ 0 13  0]\n",
      " [ 0  0  6]]\n",
      "k = 1, Classification Report:\n",
      "                 precision    recall  f1-score   support\n",
      "\n",
      "    Iris-setosa       1.00      1.00      1.00        11\n",
      "Iris-versicolor       1.00      1.00      1.00        13\n",
      " Iris-virginica       1.00      1.00      1.00         6\n",
      "\n",
      "       accuracy                           1.00        30\n",
      "      macro avg       1.00      1.00      1.00        30\n",
      "   weighted avg       1.00      1.00      1.00        30\n",
      "\n",
      "k = 3, Accuracy = 0.97\n",
      "k = 3, Confusion Matrix:\n",
      "[[11  0  0]\n",
      " [ 0 12  1]\n",
      " [ 0  0  6]]\n",
      "k = 3, Classification Report:\n",
      "                 precision    recall  f1-score   support\n",
      "\n",
      "    Iris-setosa       1.00      1.00      1.00        11\n",
      "Iris-versicolor       1.00      0.92      0.96        13\n",
      " Iris-virginica       0.86      1.00      0.92         6\n",
      "\n",
      "       accuracy                           0.97        30\n",
      "      macro avg       0.95      0.97      0.96        30\n",
      "   weighted avg       0.97      0.97      0.97        30\n",
      "\n",
      "k = 5, Accuracy = 0.97\n",
      "k = 5, Confusion Matrix:\n",
      "[[11  0  0]\n",
      " [ 0 12  1]\n",
      " [ 0  0  6]]\n",
      "k = 5, Classification Report:\n",
      "                 precision    recall  f1-score   support\n",
      "\n",
      "    Iris-setosa       1.00      1.00      1.00        11\n",
      "Iris-versicolor       1.00      0.92      0.96        13\n",
      " Iris-virginica       0.86      1.00      0.92         6\n",
      "\n",
      "       accuracy                           0.97        30\n",
      "      macro avg       0.95      0.97      0.96        30\n",
      "   weighted avg       0.97      0.97      0.97        30\n",
      "\n",
      "k = 7, Accuracy = 1.00\n",
      "k = 7, Confusion Matrix:\n",
      "[[11  0  0]\n",
      " [ 0 13  0]\n",
      " [ 0  0  6]]\n",
      "k = 7, Classification Report:\n",
      "                 precision    recall  f1-score   support\n",
      "\n",
      "    Iris-setosa       1.00      1.00      1.00        11\n",
      "Iris-versicolor       1.00      1.00      1.00        13\n",
      " Iris-virginica       1.00      1.00      1.00         6\n",
      "\n",
      "       accuracy                           1.00        30\n",
      "      macro avg       1.00      1.00      1.00        30\n",
      "   weighted avg       1.00      1.00      1.00        30\n",
      "\n",
      "k = 20, Accuracy = 1.00\n",
      "k = 20, Confusion Matrix:\n",
      "[[11  0  0]\n",
      " [ 0 13  0]\n",
      " [ 0  0  6]]\n",
      "k = 20, Classification Report:\n",
      "                 precision    recall  f1-score   support\n",
      "\n",
      "    Iris-setosa       1.00      1.00      1.00        11\n",
      "Iris-versicolor       1.00      1.00      1.00        13\n",
      " Iris-virginica       1.00      1.00      1.00         6\n",
      "\n",
      "       accuracy                           1.00        30\n",
      "      macro avg       1.00      1.00      1.00        30\n",
      "   weighted avg       1.00      1.00      1.00        30\n",
      "\n",
      "k = 25, Accuracy = 1.00\n",
      "k = 25, Confusion Matrix:\n",
      "[[11  0  0]\n",
      " [ 0 13  0]\n",
      " [ 0  0  6]]\n",
      "k = 25, Classification Report:\n",
      "                 precision    recall  f1-score   support\n",
      "\n",
      "    Iris-setosa       1.00      1.00      1.00        11\n",
      "Iris-versicolor       1.00      1.00      1.00        13\n",
      " Iris-virginica       1.00      1.00      1.00         6\n",
      "\n",
      "       accuracy                           1.00        30\n",
      "      macro avg       1.00      1.00      1.00        30\n",
      "   weighted avg       1.00      1.00      1.00        30\n",
      "\n"
     ]
    }
   ],
   "source": [
    "for k in [1, 3, 5, 7, 20, 25]:\n",
    "    knn = KNeighborsClassifier(n_neighbors=k)\n",
    "    knn.fit(features_train, target_train)\n",
    "    target_prediction = knn.predict(features_test)\n",
    "    accuracy = accuracy_score(target_test, target_prediction)\n",
    "    conf_matrix = confusion_matrix(target_test, target_prediction)\n",
    "    class_report = classification_report(target_test, target_prediction, target_names=['Iris-setosa', 'Iris-versicolor', 'Iris-virginica'])\n",
    "    print(f\"k = {k}, Accuracy = {accuracy:.2f}\")\n",
    "    print(f\"k = {k}, Confusion Matrix:\\n{conf_matrix}\")\n",
    "    print(f\"k = {k}, Classification Report:\\n{class_report}\")"
   ]
  }
 ],
 "metadata": {
  "kernelspec": {
   "display_name": "venv",
   "language": "python",
   "name": "python3"
  },
  "language_info": {
   "codemirror_mode": {
    "name": "ipython",
    "version": 3
   },
   "file_extension": ".py",
   "mimetype": "text/x-python",
   "name": "python",
   "nbconvert_exporter": "python",
   "pygments_lexer": "ipython3",
   "version": "3.13.4"
  }
 },
 "nbformat": 4,
 "nbformat_minor": 5
}
