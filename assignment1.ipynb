{
 "cells": [
  {
   "cell_type": "markdown",
   "id": "bfb236a2",
   "metadata": {},
   "source": [
    "# Setup\n",
    "I use Visual Studio Code and Jupyter Notebook and run locally in my computer.\n",
    "\n",
    "The libraries I used:\n",
    "- pandas for data handling\n",
    "- matplotlib and seaborn for visualizations\n",
    "- scikit-learn for spliting data into train and test, working with model, and calculating metrics"
   ]
  },
  {
   "cell_type": "code",
   "execution_count": null,
   "id": "c2a350ef",
   "metadata": {},
   "outputs": [],
   "source": [
    "import pandas as pd\n",
    "import matplotlib.pyplot as plt\n",
    "import seaborn as sns\n",
    "from sklearn.model_selection import train_test_split\n",
    "from sklearn.neighbors import KNeighborsClassifier\n",
    "from sklearn.metrics import accuracy_score, confusion_matrix, classification_report\n",
    "\n",
    "print(\"Libraries loaded successfully\")"
   ]
  },
  {
   "cell_type": "markdown",
   "id": "4b85f0dd",
   "metadata": {},
   "source": [
    "# Data Preparation\n",
    "I use Iris dataset from D2L. This is a CSV file with 150 samples (50 samples each flower).\n",
    "\n",
    "In this step, I will load the Iris CSV file and make sure the column names match expected features and target."
   ]
  },
  {
   "cell_type": "code",
   "execution_count": null,
   "id": "ea5c91b3",
   "metadata": {},
   "outputs": [],
   "source": [
    "# Load the Iris dataset from CSV\n",
    "iris = pd.read_csv('dataset/Iris.csv')\n",
    "\n",
    "# Display the first 5 rows of the dataset to make suare it's loaded correctly\n",
    "print(iris.head(5))"
   ]
  },
  {
   "cell_type": "markdown",
   "id": "aba21355",
   "metadata": {},
   "source": [
    "# Data Exploration"
   ]
  },
  {
   "cell_type": "markdown",
   "id": "fd27562e",
   "metadata": {},
   "source": [
    "## Display basic statistics\n",
    "Because SepalLengthCm, SepalWidthCm, PetalLengthCm, PetalWidthCm are numeric features, I print min, max, mean, median and Standard deviation to see their typical values, range, and how much they vary.\n",
    "\n",
    "For the species, I count each class to see how many samples are in each group."
   ]
  },
  {
   "cell_type": "markdown",
   "id": "ddbc70b4",
   "metadata": {},
   "source": [
    "### SepalLengthCm statistics"
   ]
  },
  {
   "cell_type": "code",
   "execution_count": null,
   "id": "1e1983f3",
   "metadata": {},
   "outputs": [],
   "source": [
    "print(\"Min:\", iris[\"SepalLengthCm\"].min())\n",
    "print(\"Max:\", iris[\"SepalLengthCm\"].max())\n",
    "print(\"Mean:\", iris[\"SepalLengthCm\"].mean())\n",
    "print(\"Median:\", iris[\"SepalLengthCm\"].median())\n",
    "print(\"Standard Deviation:\", iris[\"SepalLengthCm\"].std())"
   ]
  },
  {
   "cell_type": "markdown",
   "id": "e59fac75",
   "metadata": {},
   "source": [
    "### SepalWidthCm statistics"
   ]
  },
  {
   "cell_type": "code",
   "execution_count": null,
   "id": "c607ad4b",
   "metadata": {},
   "outputs": [],
   "source": [
    "print(\"Min:\", iris[\"SepalWidthCm\"].min())\n",
    "print(\"Max:\", iris[\"SepalWidthCm\"].max())\n",
    "print(\"Mean:\", iris[\"SepalWidthCm\"].mean())\n",
    "print(\"Median:\", iris[\"SepalWidthCm\"].median())\n",
    "print(\"Standard Deviation:\", iris[\"SepalWidthCm\"].std())"
   ]
  },
  {
   "cell_type": "markdown",
   "id": "81489af3",
   "metadata": {},
   "source": [
    "### PetalLengthCm statistics"
   ]
  },
  {
   "cell_type": "code",
   "execution_count": null,
   "id": "50548e36",
   "metadata": {},
   "outputs": [],
   "source": [
    "print(\"Min:\", iris[\"PetalLengthCm\"].min())\n",
    "print(\"Max:\", iris[\"PetalLengthCm\"].max())\n",
    "print(\"Mean:\", iris[\"PetalLengthCm\"].mean())\n",
    "print(\"Median:\", iris[\"PetalLengthCm\"].median())\n",
    "print(\"Standard Deviation:\", iris[\"PetalLengthCm\"].std())"
   ]
  },
  {
   "cell_type": "markdown",
   "id": "b092adda",
   "metadata": {},
   "source": [
    "### PetalWidthCm statistics"
   ]
  },
  {
   "cell_type": "code",
   "execution_count": null,
   "id": "1cf5ecfc",
   "metadata": {},
   "outputs": [],
   "source": [
    "print(\"Min:\", iris[\"PetalWidthCm\"].min())\n",
    "print(\"Max:\", iris[\"PetalWidthCm\"].max())\n",
    "print(\"Mean:\", iris[\"PetalWidthCm\"].mean())\n",
    "print(\"Median:\", iris[\"PetalWidthCm\"].median())\n",
    "print(\"Standard Deviation:\", iris[\"PetalWidthCm\"].std())"
   ]
  },
  {
   "cell_type": "markdown",
   "id": "cc42500c",
   "metadata": {},
   "source": [
    "### Species statistics"
   ]
  },
  {
   "cell_type": "code",
   "execution_count": null,
   "id": "321af64c",
   "metadata": {},
   "outputs": [],
   "source": [
    "print(iris['Species'].value_counts())"
   ]
  },
  {
   "cell_type": "markdown",
   "id": "f61019b9",
   "metadata": {},
   "source": [
    "## Visualizations"
   ]
  },
  {
   "cell_type": "markdown",
   "id": "78de0b0c",
   "metadata": {},
   "source": [
    "### Histograms of features\n",
    "Because SepalLengthCm, SepalWidthCm, PetalLengthCm, PetalWidthCm are numeric features, I visualize by plot historams."
   ]
  },
  {
   "cell_type": "code",
   "execution_count": null,
   "id": "3fba5db4",
   "metadata": {},
   "outputs": [],
   "source": [
    "iris[['SepalLengthCm','SepalWidthCm','PetalLengthCm','PetalWidthCm']].hist(bins=15, figsize=(10, 6))\n",
    "plt.suptitle(\"Histograms of features\")\n",
    "plt.show()"
   ]
  },
  {
   "cell_type": "markdown",
   "id": "a045f1c3",
   "metadata": {},
   "source": [
    "### Sepal length vs Sepal width\n",
    "The diagram shows the comparation between length and width of Sepal and color by species"
   ]
  },
  {
   "cell_type": "code",
   "execution_count": null,
   "id": "ad31215b",
   "metadata": {},
   "outputs": [],
   "source": [
    "sns.scatterplot(data=iris, x='SepalLengthCm', y='SepalWidthCm', hue='Species')\n",
    "plt.title(\"Sepal Length vs Sepal Width by Species\")\n",
    "plt.show()"
   ]
  },
  {
   "cell_type": "markdown",
   "id": "a0ce87dc",
   "metadata": {},
   "source": [
    "### Petal length vs Petal width\n",
    "The diagram shows the comparation between length and width of Petal and color by species"
   ]
  },
  {
   "cell_type": "code",
   "execution_count": null,
   "id": "252c3863",
   "metadata": {},
   "outputs": [],
   "source": [
    "sns.scatterplot(data=iris, x='PetalLengthCm', y='PetalWidthCm', hue='Species')\n",
    "plt.title(\"Petal Length vs Petal Width by Species\")\n",
    "plt.show()"
   ]
  },
  {
   "cell_type": "markdown",
   "id": "31eb5391",
   "metadata": {},
   "source": [
    "# Data Preprocessing"
   ]
  },
  {
   "cell_type": "markdown",
   "id": "c9147ca1",
   "metadata": {},
   "source": [
    "### See missing values"
   ]
  },
  {
   "cell_type": "code",
   "execution_count": null,
   "id": "9b87c25c",
   "metadata": {},
   "outputs": [],
   "source": [
    "print(iris.isnull().sum())"
   ]
  },
  {
   "cell_type": "markdown",
   "id": "2b4ad544",
   "metadata": {},
   "source": [
    "### Drop rows with missing values"
   ]
  },
  {
   "cell_type": "code",
   "execution_count": null,
   "id": "bdd8ed4a",
   "metadata": {},
   "outputs": [],
   "source": [
    "iris = iris.dropna()"
   ]
  },
  {
   "cell_type": "markdown",
   "id": "ea1cafd0",
   "metadata": {},
   "source": [
    "### Convert Species into numbers because model needs numeric input\n",
    "\n",
    "Iris-setosa: 0\n",
    "\n",
    "Iris-versicolor: 1\n",
    "\n",
    "Iris-virginica: 2"
   ]
  },
  {
   "cell_type": "code",
   "execution_count": null,
   "id": "0ac636c9",
   "metadata": {},
   "outputs": [],
   "source": [
    "target_map = {'Iris-setosa': 0, 'Iris-versicolor': 1, 'Iris-virginica': 2}\n",
    "iris['Species_num'] = iris['Species'].map(target_map)\n",
    "print(iris.head(150)) "
   ]
  },
  {
   "cell_type": "markdown",
   "id": "ab5df2f4",
   "metadata": {},
   "source": [
    "### Split the data into training and testing sets\n",
    "80% training, 20% testing because I want to give the model enough data to learn patterns and keep a 20% to check how well it performs on unseen data."
   ]
  },
  {
   "cell_type": "code",
   "execution_count": null,
   "id": "f5de40d7",
   "metadata": {},
   "outputs": [],
   "source": [
    "\n",
    "features = iris[['SepalLengthCm','SepalWidthCm','PetalLengthCm','PetalWidthCm']]\n",
    "target = iris['Species_num']\n",
    "features_train, features_test, target_train, target_test = train_test_split(features, target, test_size=0.2, random_state=0)"
   ]
  },
  {
   "cell_type": "markdown",
   "id": "bdc0c8d6",
   "metadata": {},
   "source": [
    "# Model Building\n",
    "I chose K-Nearest Neighbors because it is easy to understand and classifies samples based on similarity and it works well for small datasets like Iris. \n",
    "\n",
    "I set `n_neighbors = 5` when defining KNN model because the model is more stable than using `3` or `1` (too small). It will look at more neighbors before making a decision -> reduce the effect of noise but still keeps good accuracy.\n",
    "\n",
    "I will also do a hyperparameter tuning step later to see how different values of k affect performance."
   ]
  },
  {
   "cell_type": "code",
   "execution_count": null,
   "id": "b305ae33",
   "metadata": {},
   "outputs": [],
   "source": [
    "knn = KNeighborsClassifier(n_neighbors = 5)"
   ]
  },
  {
   "cell_type": "markdown",
   "id": "f8d26d4b",
   "metadata": {},
   "source": [
    "# Model Training\n",
    "\n",
    "Train the model using training dataset and then predict on test set"
   ]
  },
  {
   "cell_type": "code",
   "execution_count": null,
   "id": "0eb37f2b",
   "metadata": {},
   "outputs": [],
   "source": [
    "knn.fit(features_train, target_train)\n",
    "\n",
    "target_prediction = knn.predict(features_test)"
   ]
  },
  {
   "cell_type": "markdown",
   "id": "a97e8e9c",
   "metadata": {},
   "source": [
    "# Evaluation\n",
    "\n",
    "Accuracy shows overall performance\n",
    "\n",
    "Confusion matrix and classification report show how well the model did for each flower class"
   ]
  },
  {
   "cell_type": "markdown",
   "id": "e136c384",
   "metadata": {},
   "source": [
    "### Accuracy"
   ]
  },
  {
   "cell_type": "code",
   "execution_count": null,
   "id": "7fe16b95",
   "metadata": {},
   "outputs": [],
   "source": [
    "accuracy = accuracy_score(target_test, target_prediction)\n",
    "print(accuracy)"
   ]
  },
  {
   "cell_type": "markdown",
   "id": "a032ece4",
   "metadata": {},
   "source": [
    "### Confusion matrix"
   ]
  },
  {
   "cell_type": "code",
   "execution_count": null,
   "id": "db75f636",
   "metadata": {},
   "outputs": [],
   "source": [
    "conf_matrix = confusion_matrix(target_test, target_prediction)\n",
    "print(conf_matrix)"
   ]
  },
  {
   "cell_type": "markdown",
   "id": "0fb9b58b",
   "metadata": {},
   "source": [
    "### Classification report"
   ]
  },
  {
   "cell_type": "code",
   "execution_count": null,
   "id": "b3182928",
   "metadata": {},
   "outputs": [],
   "source": [
    "class_report = classification_report(target_test, target_prediction, target_names=['Iris-setosa', 'Iris-versicolor', 'Iris-virginica'])\n",
    "print(class_report)"
   ]
  },
  {
   "cell_type": "markdown",
   "id": "b41b9885",
   "metadata": {},
   "source": [
    "# Hyperparameter Tuning"
   ]
  },
  {
   "cell_type": "markdown",
   "id": "bbc3ce84",
   "metadata": {},
   "source": [
    "The reason why I chose tuning the `n_neighbors` hyperparameter in KNN because it decides how many nearby points that the model looks at to make a prediction. That means this parameter is really important.\n",
    "\n",
    "I will test in small `k` (`1` and `3`) and large `k` (`15` and `20`) to see what happened."
   ]
  },
  {
   "cell_type": "code",
   "execution_count": null,
   "id": "7d134d71",
   "metadata": {},
   "outputs": [],
   "source": [
    "for k in [1, 3, 15, 20]:\n",
    "    knn = KNeighborsClassifier(n_neighbors=k)\n",
    "    knn.fit(features_train, target_train)\n",
    "    target_prediction = knn.predict(features_test)\n",
    "\n",
    "    accuracy = accuracy_score(target_test, target_prediction)\n",
    "    conf_matrix = confusion_matrix(target_test, target_prediction)\n",
    "    class_report = classification_report(target_test, target_prediction, target_names=['Iris-setosa', 'Iris-versicolor', 'Iris-virginica'])\n",
    "\n",
    "    print(\"With k =\",k)\n",
    "    print(\"\")\n",
    "    print(\"Accuracy =\", accuracy)\n",
    "    print(\"Confusion matrix\")\n",
    "    print(conf_matrix)\n",
    "    print(\"Classification report\")\n",
    "    print(class_report)\n",
    "    print(\"\")"
   ]
  },
  {
   "cell_type": "markdown",
   "id": "4a88b2c1",
   "metadata": {},
   "source": [
    "After experimenting with 5 different values of `k` (`1`, `3`, `5`, `15`, `20`), I see the results:\n",
    "\n",
    "k = 1: The model worls well because the Iris data is very clean, so the closest neighbor is always correct.\n",
    "\n",
    "k = 3, 5: The model is still very good but a tiny mistake happened because 3 and 5 neighbors sometimes disagree.\n",
    "\n",
    "k = 15, 20: The model takes more neighbors, but it is perfect because Iris dataset is well-seperated."
   ]
  },
  {
   "cell_type": "markdown",
   "id": "c160ec6a",
   "metadata": {},
   "source": [
    "In this assignment, I understand many machine learning concepts from data preparation, data preprocessing, model selection, model training, evaluation and hyperparameter tuning. It also helps me practice using Jupyter notebook.\n",
    "\n",
    "I put my thinking and explanation into each steps.\n",
    "\n",
    "Here is what I found after using Iris dataset and K-Nearest Neighbors in this assignment:\n",
    "\n",
    "Iris dataset is clear and well-structured. After cleaning the data, the KNN model gave very high accuracy (97%–100%). The confusion matrix showed only a few small mistakes. I tried different values of `k` and found that `k` = `3` and `5` performed slightly worse than `1` or larger values like `15` and `20`.\n",
    "\n",
    "\n",
    "However, because the Iris dataset is small (150 samples), the results cannot show how the model works on larger and complex data. With more data, the best value of k might change, and the accuracy might not stay this high.\n"
   ]
  }
 ],
 "metadata": {
  "kernelspec": {
   "display_name": "Python 3 (ipykernel)",
   "language": "python",
   "name": "python3"
  },
  "language_info": {
   "codemirror_mode": {
    "name": "ipython",
    "version": 3
   },
   "file_extension": ".py",
   "mimetype": "text/x-python",
   "name": "python",
   "nbconvert_exporter": "python",
   "pygments_lexer": "ipython3",
   "version": "3.13.4"
  }
 },
 "nbformat": 4,
 "nbformat_minor": 5
}
